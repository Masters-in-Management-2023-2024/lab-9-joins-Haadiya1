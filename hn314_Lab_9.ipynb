{
  "nbformat": 4,
  "nbformat_minor": 0,
  "metadata": {
    "colab": {
      "provenance": []
    },
    "kernelspec": {
      "name": "python3",
      "display_name": "Python 3"
    },
    "language_info": {
      "name": "python"
    }
  },
  "cells": [
    {
      "cell_type": "code",
      "execution_count": 1,
      "metadata": {
        "id": "OwxEjzXNewVC"
      },
      "outputs": [],
      "source": [
        "#OPAN5510 Lab Assignment - Joins\n",
        "\n",
        "#This lab focuses on using Polars to perform data joins and aggregations to answer business questions.\n",
        "\n",
        "#Bike Trips Dataset\n",
        "\n",
        "#Prerequisites\n",
        "\n",
        "#For this assignment, you'll need to use Polars for data manipulation.\n",
        "\n",
        "#Insert a code block to import necessary packages (polars)"
      ]
    },
    {
      "cell_type": "code",
      "source": [
        "import polars as pl\n",
        "\n",
        "#Load Bike Trips Data Set\n",
        "\n",
        "trips = pl.read_csv(\"https://raw.githubusercontent.com/philhetzel/opan5510-class9/refs/heads/main/data/bike_trips.csv\", null_values='NA')\n",
        "weather = pl.read_csv(\"https://raw.githubusercontent.com/philhetzel/opan5510-class9/refs/heads/main/data/bike_weather.csv\", null_values=['NA',''])\n",
        "\n",
        "trips = trips.with_columns(pl.col(\"date\").str.strptime(pl.Date, \"%Y-%m-%d\").alias(\"date\")) # ensure date column is typed correctly\n",
        "weather = weather.with_columns(pl.col(\"date\").str.strptime(pl.Date, \"%Y-%m-%d\").alias(\"date\")) # ensure date column is typed correctly\n",
        "print(trips.height)\n",
        "print(weather.height)"
      ],
      "metadata": {
        "colab": {
          "base_uri": "https://localhost:8080/"
        },
        "id": "0vTp4ptWggLD",
        "outputId": "2d87ad01-923e-4801-e7b8-ba9156a1fb8b"
      },
      "execution_count": 5,
      "outputs": [
        {
          "output_type": "stream",
          "name": "stdout",
          "text": [
            "78704\n",
            "733\n"
          ]
        }
      ]
    },
    {
      "cell_type": "code",
      "source": [
        "trips.head()"
      ],
      "metadata": {
        "colab": {
          "base_uri": "https://localhost:8080/",
          "height": 337
        },
        "id": "F3DmK8a7tc8W",
        "outputId": "dc63d9c2-e0d2-4eea-9019-f32af8c4511b"
      },
      "execution_count": 6,
      "outputs": [
        {
          "output_type": "execute_result",
          "data": {
            "text/plain": [
              "shape: (5, 12)\n",
              "┌──────┬──────────┬──────────────┬─────────────┬───┬─────────┬─────────────┬──────────┬────────────┐\n",
              "│ id   ┆ duration ┆ start_date   ┆ start_stati ┆ … ┆ bike_id ┆ subscriptio ┆ zip_code ┆ date       │\n",
              "│ ---  ┆ ---      ┆ ---          ┆ on_name     ┆   ┆ ---     ┆ n_type      ┆ ---      ┆ ---        │\n",
              "│ i64  ┆ i64      ┆ str          ┆ ---         ┆   ┆ i64     ┆ ---         ┆ i64      ┆ date       │\n",
              "│      ┆          ┆              ┆ str         ┆   ┆         ┆ str         ┆          ┆            │\n",
              "╞══════╪══════════╪══════════════╪═════════════╪═══╪═════════╪═════════════╪══════════╪════════════╡\n",
              "│ 4721 ┆ 3        ┆ 2013-08-29T2 ┆ Market at   ┆ … ┆ 416     ┆ Subscriber  ┆ 94107    ┆ 2013-08-29 │\n",
              "│      ┆          ┆ 0:27:00Z     ┆ 10th        ┆   ┆         ┆             ┆          ┆            │\n",
              "│ 4812 ┆ 3        ┆ 2013-08-29T2 ┆ 2nd at      ┆ … ┆ 409     ┆ Subscriber  ┆ 94107    ┆ 2013-08-29 │\n",
              "│      ┆          ┆ 1:30:00Z     ┆ Folsom      ┆   ┆         ┆             ┆          ┆            │\n",
              "│ 4705 ┆ 3        ┆ 2013-08-29T2 ┆ Golden Gate ┆ … ┆ 519     ┆ Subscriber  ┆ 94107    ┆ 2013-08-29 │\n",
              "│      ┆          ┆ 0:15:00Z     ┆ at Polk     ┆   ┆         ┆             ┆          ┆            │\n",
              "│ 4841 ┆ 3        ┆ 2013-08-29T2 ┆ University  ┆ … ┆ 83      ┆ Subscriber  ┆ 94107    ┆ 2013-08-29 │\n",
              "│      ┆          ┆ 1:48:00Z     ┆ and Emerson ┆   ┆         ┆             ┆          ┆            │\n",
              "│ 4668 ┆ 4        ┆ 2013-08-29T1 ┆ San         ┆ … ┆ 489     ┆ Subscriber  ┆ 94107    ┆ 2013-08-29 │\n",
              "│      ┆          ┆ 9:39:00Z     ┆ Francisco   ┆   ┆         ┆             ┆          ┆            │\n",
              "│      ┆          ┆              ┆ Caltrain 2  ┆   ┆         ┆             ┆          ┆            │\n",
              "│      ┆          ┆              ┆ (330 …      ┆   ┆         ┆             ┆          ┆            │\n",
              "└──────┴──────────┴──────────────┴─────────────┴───┴─────────┴─────────────┴──────────┴────────────┘"
            ],
            "text/html": [
              "<div><style>\n",
              ".dataframe > thead > tr,\n",
              ".dataframe > tbody > tr {\n",
              "  text-align: right;\n",
              "  white-space: pre-wrap;\n",
              "}\n",
              "</style>\n",
              "<small>shape: (5, 12)</small><table border=\"1\" class=\"dataframe\"><thead><tr><th>id</th><th>duration</th><th>start_date</th><th>start_station_name</th><th>start_station_id</th><th>end_date</th><th>end_station_name</th><th>end_station_id</th><th>bike_id</th><th>subscription_type</th><th>zip_code</th><th>date</th></tr><tr><td>i64</td><td>i64</td><td>str</td><td>str</td><td>i64</td><td>str</td><td>str</td><td>i64</td><td>i64</td><td>str</td><td>i64</td><td>date</td></tr></thead><tbody><tr><td>4721</td><td>3</td><td>&quot;2013-08-29T20:27:00Z&quot;</td><td>&quot;Market at 10th&quot;</td><td>67</td><td>&quot;2013-08-29T20:30:00Z&quot;</td><td>&quot;South Van Ness at Market&quot;</td><td>66</td><td>416</td><td>&quot;Subscriber&quot;</td><td>94107</td><td>2013-08-29</td></tr><tr><td>4812</td><td>3</td><td>&quot;2013-08-29T21:30:00Z&quot;</td><td>&quot;2nd at Folsom&quot;</td><td>62</td><td>&quot;2013-08-29T21:33:00Z&quot;</td><td>&quot;2nd at Folsom&quot;</td><td>62</td><td>409</td><td>&quot;Subscriber&quot;</td><td>94107</td><td>2013-08-29</td></tr><tr><td>4705</td><td>3</td><td>&quot;2013-08-29T20:15:00Z&quot;</td><td>&quot;Golden Gate at Polk&quot;</td><td>59</td><td>&quot;2013-08-29T20:18:00Z&quot;</td><td>&quot;San Francisco City Hall&quot;</td><td>58</td><td>519</td><td>&quot;Subscriber&quot;</td><td>94107</td><td>2013-08-29</td></tr><tr><td>4841</td><td>3</td><td>&quot;2013-08-29T21:48:00Z&quot;</td><td>&quot;University and Emerson&quot;</td><td>35</td><td>&quot;2013-08-29T21:51:00Z&quot;</td><td>&quot;Cowper at University&quot;</td><td>37</td><td>83</td><td>&quot;Subscriber&quot;</td><td>94107</td><td>2013-08-29</td></tr><tr><td>4668</td><td>4</td><td>&quot;2013-08-29T19:39:00Z&quot;</td><td>&quot;San Francisco Caltrain 2 (330 …</td><td>69</td><td>&quot;2013-08-29T19:43:00Z&quot;</td><td>&quot;Townsend at 7th&quot;</td><td>65</td><td>489</td><td>&quot;Subscriber&quot;</td><td>94107</td><td>2013-08-29</td></tr></tbody></table></div>"
            ]
          },
          "metadata": {},
          "execution_count": 6
        }
      ]
    },
    {
      "cell_type": "code",
      "source": [
        "weather.head()"
      ],
      "metadata": {
        "colab": {
          "base_uri": "https://localhost:8080/",
          "height": 357
        },
        "id": "StTlr7F3thG1",
        "outputId": "e2060832-9d1b-4e0c-b593-4f1943857a4b"
      },
      "execution_count": 7,
      "outputs": [
        {
          "output_type": "execute_result",
          "data": {
            "text/plain": [
              "shape: (5, 24)\n",
              "┌────────────┬────────────┬────────────┬───────────┬───┬───────────┬────────┬───────────┬──────────┐\n",
              "│ date       ┆ max_temper ┆ mean_tempe ┆ min_tempe ┆ … ┆ cloud_cov ┆ events ┆ wind_dir_ ┆ zip_code │\n",
              "│ ---        ┆ ature_f    ┆ rature_f   ┆ rature_f  ┆   ┆ er        ┆ ---    ┆ degrees   ┆ ---      │\n",
              "│ date       ┆ ---        ┆ ---        ┆ ---       ┆   ┆ ---       ┆ str    ┆ ---       ┆ i64      │\n",
              "│            ┆ i64        ┆ i64        ┆ i64       ┆   ┆ i64       ┆        ┆ i64       ┆          │\n",
              "╞════════════╪════════════╪════════════╪═══════════╪═══╪═══════════╪════════╪═══════════╪══════════╡\n",
              "│ 2013-08-29 ┆ 74         ┆ 68         ┆ 61        ┆ … ┆ 4         ┆ null   ┆ 286       ┆ 94107    │\n",
              "│ 2013-08-30 ┆ 78         ┆ 69         ┆ 60        ┆ … ┆ 2         ┆ null   ┆ 291       ┆ 94107    │\n",
              "│ 2013-08-31 ┆ 71         ┆ 64         ┆ 57        ┆ … ┆ 4         ┆ null   ┆ 284       ┆ 94107    │\n",
              "│ 2013-09-01 ┆ 74         ┆ 66         ┆ 58        ┆ … ┆ 4         ┆ null   ┆ 284       ┆ 94107    │\n",
              "│ 2013-09-02 ┆ 75         ┆ 69         ┆ 62        ┆ … ┆ 6         ┆ null   ┆ 277       ┆ 94107    │\n",
              "└────────────┴────────────┴────────────┴───────────┴───┴───────────┴────────┴───────────┴──────────┘"
            ],
            "text/html": [
              "<div><style>\n",
              ".dataframe > thead > tr,\n",
              ".dataframe > tbody > tr {\n",
              "  text-align: right;\n",
              "  white-space: pre-wrap;\n",
              "}\n",
              "</style>\n",
              "<small>shape: (5, 24)</small><table border=\"1\" class=\"dataframe\"><thead><tr><th>date</th><th>max_temperature_f</th><th>mean_temperature_f</th><th>min_temperature_f</th><th>max_dew_point_f</th><th>mean_dew_point_f</th><th>min_dew_point_f</th><th>max_humidity</th><th>mean_humidity</th><th>min_humidity</th><th>max_sea_level_pressure_inches</th><th>mean_sea_level_pressure_inches</th><th>min_sea_level_pressure_inches</th><th>max_visibility_miles</th><th>mean_visibility_miles</th><th>min_visibility_miles</th><th>max_wind_Speed_mph</th><th>mean_wind_speed_mph</th><th>max_gust_speed_mph</th><th>precipitation_inches</th><th>cloud_cover</th><th>events</th><th>wind_dir_degrees</th><th>zip_code</th></tr><tr><td>date</td><td>i64</td><td>i64</td><td>i64</td><td>i64</td><td>i64</td><td>i64</td><td>i64</td><td>i64</td><td>i64</td><td>f64</td><td>f64</td><td>f64</td><td>i64</td><td>i64</td><td>i64</td><td>i64</td><td>i64</td><td>i64</td><td>str</td><td>i64</td><td>str</td><td>i64</td><td>i64</td></tr></thead><tbody><tr><td>2013-08-29</td><td>74</td><td>68</td><td>61</td><td>61</td><td>58</td><td>56</td><td>93</td><td>75</td><td>57</td><td>30.07</td><td>30.02</td><td>29.97</td><td>10</td><td>10</td><td>10</td><td>23</td><td>11</td><td>28</td><td>&quot;0&quot;</td><td>4</td><td>null</td><td>286</td><td>94107</td></tr><tr><td>2013-08-30</td><td>78</td><td>69</td><td>60</td><td>61</td><td>58</td><td>56</td><td>90</td><td>70</td><td>50</td><td>30.05</td><td>30.0</td><td>29.93</td><td>10</td><td>10</td><td>7</td><td>29</td><td>13</td><td>35</td><td>&quot;0&quot;</td><td>2</td><td>null</td><td>291</td><td>94107</td></tr><tr><td>2013-08-31</td><td>71</td><td>64</td><td>57</td><td>57</td><td>56</td><td>54</td><td>93</td><td>75</td><td>57</td><td>30.0</td><td>29.96</td><td>29.92</td><td>10</td><td>10</td><td>10</td><td>26</td><td>15</td><td>31</td><td>&quot;0&quot;</td><td>4</td><td>null</td><td>284</td><td>94107</td></tr><tr><td>2013-09-01</td><td>74</td><td>66</td><td>58</td><td>60</td><td>56</td><td>53</td><td>87</td><td>68</td><td>49</td><td>29.96</td><td>29.93</td><td>29.91</td><td>10</td><td>10</td><td>10</td><td>25</td><td>13</td><td>29</td><td>&quot;0&quot;</td><td>4</td><td>null</td><td>284</td><td>94107</td></tr><tr><td>2013-09-02</td><td>75</td><td>69</td><td>62</td><td>61</td><td>60</td><td>58</td><td>93</td><td>77</td><td>61</td><td>29.97</td><td>29.94</td><td>29.9</td><td>10</td><td>10</td><td>6</td><td>23</td><td>12</td><td>30</td><td>&quot;0&quot;</td><td>6</td><td>null</td><td>277</td><td>94107</td></tr></tbody></table></div>"
            ]
          },
          "metadata": {},
          "execution_count": 7
        }
      ]
    },
    {
      "cell_type": "code",
      "source": [
        "# Question 1 - PART A\n",
        "\n",
        "trips_weather = trips.join(weather, on='date', how='left')\n",
        "trips_weather.head()"
      ],
      "metadata": {
        "colab": {
          "base_uri": "https://localhost:8080/",
          "height": 357
        },
        "id": "Zb9XWCLFg4WN",
        "outputId": "cb52330b-4544-4c0f-cc76-a2e9b68aca37"
      },
      "execution_count": 8,
      "outputs": [
        {
          "output_type": "execute_result",
          "data": {
            "text/plain": [
              "shape: (5, 35)\n",
              "┌──────┬──────────┬─────────────┬─────────────┬───┬─────────────┬────────┬────────────┬────────────┐\n",
              "│ id   ┆ duration ┆ start_date  ┆ start_stati ┆ … ┆ cloud_cover ┆ events ┆ wind_dir_d ┆ zip_code_r │\n",
              "│ ---  ┆ ---      ┆ ---         ┆ on_name     ┆   ┆ ---         ┆ ---    ┆ egrees     ┆ ight       │\n",
              "│ i64  ┆ i64      ┆ str         ┆ ---         ┆   ┆ i64         ┆ str    ┆ ---        ┆ ---        │\n",
              "│      ┆          ┆             ┆ str         ┆   ┆             ┆        ┆ i64        ┆ i64        │\n",
              "╞══════╪══════════╪═════════════╪═════════════╪═══╪═════════════╪════════╪════════════╪════════════╡\n",
              "│ 4721 ┆ 3        ┆ 2013-08-29T ┆ Market at   ┆ … ┆ 4           ┆ null   ┆ 286        ┆ 94107      │\n",
              "│      ┆          ┆ 20:27:00Z   ┆ 10th        ┆   ┆             ┆        ┆            ┆            │\n",
              "│ 4812 ┆ 3        ┆ 2013-08-29T ┆ 2nd at      ┆ … ┆ 4           ┆ null   ┆ 286        ┆ 94107      │\n",
              "│      ┆          ┆ 21:30:00Z   ┆ Folsom      ┆   ┆             ┆        ┆            ┆            │\n",
              "│ 4705 ┆ 3        ┆ 2013-08-29T ┆ Golden Gate ┆ … ┆ 4           ┆ null   ┆ 286        ┆ 94107      │\n",
              "│      ┆          ┆ 20:15:00Z   ┆ at Polk     ┆   ┆             ┆        ┆            ┆            │\n",
              "│ 4841 ┆ 3        ┆ 2013-08-29T ┆ University  ┆ … ┆ 4           ┆ null   ┆ 286        ┆ 94107      │\n",
              "│      ┆          ┆ 21:48:00Z   ┆ and Emerson ┆   ┆             ┆        ┆            ┆            │\n",
              "│ 4668 ┆ 4        ┆ 2013-08-29T ┆ San         ┆ … ┆ 4           ┆ null   ┆ 286        ┆ 94107      │\n",
              "│      ┆          ┆ 19:39:00Z   ┆ Francisco   ┆   ┆             ┆        ┆            ┆            │\n",
              "│      ┆          ┆             ┆ Caltrain 2  ┆   ┆             ┆        ┆            ┆            │\n",
              "│      ┆          ┆             ┆ (330 …      ┆   ┆             ┆        ┆            ┆            │\n",
              "└──────┴──────────┴─────────────┴─────────────┴───┴─────────────┴────────┴────────────┴────────────┘"
            ],
            "text/html": [
              "<div><style>\n",
              ".dataframe > thead > tr,\n",
              ".dataframe > tbody > tr {\n",
              "  text-align: right;\n",
              "  white-space: pre-wrap;\n",
              "}\n",
              "</style>\n",
              "<small>shape: (5, 35)</small><table border=\"1\" class=\"dataframe\"><thead><tr><th>id</th><th>duration</th><th>start_date</th><th>start_station_name</th><th>start_station_id</th><th>end_date</th><th>end_station_name</th><th>end_station_id</th><th>bike_id</th><th>subscription_type</th><th>zip_code</th><th>date</th><th>max_temperature_f</th><th>mean_temperature_f</th><th>min_temperature_f</th><th>max_dew_point_f</th><th>mean_dew_point_f</th><th>min_dew_point_f</th><th>max_humidity</th><th>mean_humidity</th><th>min_humidity</th><th>max_sea_level_pressure_inches</th><th>mean_sea_level_pressure_inches</th><th>min_sea_level_pressure_inches</th><th>max_visibility_miles</th><th>mean_visibility_miles</th><th>min_visibility_miles</th><th>max_wind_Speed_mph</th><th>mean_wind_speed_mph</th><th>max_gust_speed_mph</th><th>precipitation_inches</th><th>cloud_cover</th><th>events</th><th>wind_dir_degrees</th><th>zip_code_right</th></tr><tr><td>i64</td><td>i64</td><td>str</td><td>str</td><td>i64</td><td>str</td><td>str</td><td>i64</td><td>i64</td><td>str</td><td>i64</td><td>date</td><td>i64</td><td>i64</td><td>i64</td><td>i64</td><td>i64</td><td>i64</td><td>i64</td><td>i64</td><td>i64</td><td>f64</td><td>f64</td><td>f64</td><td>i64</td><td>i64</td><td>i64</td><td>i64</td><td>i64</td><td>i64</td><td>str</td><td>i64</td><td>str</td><td>i64</td><td>i64</td></tr></thead><tbody><tr><td>4721</td><td>3</td><td>&quot;2013-08-29T20:27:00Z&quot;</td><td>&quot;Market at 10th&quot;</td><td>67</td><td>&quot;2013-08-29T20:30:00Z&quot;</td><td>&quot;South Van Ness at Market&quot;</td><td>66</td><td>416</td><td>&quot;Subscriber&quot;</td><td>94107</td><td>2013-08-29</td><td>74</td><td>68</td><td>61</td><td>61</td><td>58</td><td>56</td><td>93</td><td>75</td><td>57</td><td>30.07</td><td>30.02</td><td>29.97</td><td>10</td><td>10</td><td>10</td><td>23</td><td>11</td><td>28</td><td>&quot;0&quot;</td><td>4</td><td>null</td><td>286</td><td>94107</td></tr><tr><td>4812</td><td>3</td><td>&quot;2013-08-29T21:30:00Z&quot;</td><td>&quot;2nd at Folsom&quot;</td><td>62</td><td>&quot;2013-08-29T21:33:00Z&quot;</td><td>&quot;2nd at Folsom&quot;</td><td>62</td><td>409</td><td>&quot;Subscriber&quot;</td><td>94107</td><td>2013-08-29</td><td>74</td><td>68</td><td>61</td><td>61</td><td>58</td><td>56</td><td>93</td><td>75</td><td>57</td><td>30.07</td><td>30.02</td><td>29.97</td><td>10</td><td>10</td><td>10</td><td>23</td><td>11</td><td>28</td><td>&quot;0&quot;</td><td>4</td><td>null</td><td>286</td><td>94107</td></tr><tr><td>4705</td><td>3</td><td>&quot;2013-08-29T20:15:00Z&quot;</td><td>&quot;Golden Gate at Polk&quot;</td><td>59</td><td>&quot;2013-08-29T20:18:00Z&quot;</td><td>&quot;San Francisco City Hall&quot;</td><td>58</td><td>519</td><td>&quot;Subscriber&quot;</td><td>94107</td><td>2013-08-29</td><td>74</td><td>68</td><td>61</td><td>61</td><td>58</td><td>56</td><td>93</td><td>75</td><td>57</td><td>30.07</td><td>30.02</td><td>29.97</td><td>10</td><td>10</td><td>10</td><td>23</td><td>11</td><td>28</td><td>&quot;0&quot;</td><td>4</td><td>null</td><td>286</td><td>94107</td></tr><tr><td>4841</td><td>3</td><td>&quot;2013-08-29T21:48:00Z&quot;</td><td>&quot;University and Emerson&quot;</td><td>35</td><td>&quot;2013-08-29T21:51:00Z&quot;</td><td>&quot;Cowper at University&quot;</td><td>37</td><td>83</td><td>&quot;Subscriber&quot;</td><td>94107</td><td>2013-08-29</td><td>74</td><td>68</td><td>61</td><td>61</td><td>58</td><td>56</td><td>93</td><td>75</td><td>57</td><td>30.07</td><td>30.02</td><td>29.97</td><td>10</td><td>10</td><td>10</td><td>23</td><td>11</td><td>28</td><td>&quot;0&quot;</td><td>4</td><td>null</td><td>286</td><td>94107</td></tr><tr><td>4668</td><td>4</td><td>&quot;2013-08-29T19:39:00Z&quot;</td><td>&quot;San Francisco Caltrain 2 (330 …</td><td>69</td><td>&quot;2013-08-29T19:43:00Z&quot;</td><td>&quot;Townsend at 7th&quot;</td><td>65</td><td>489</td><td>&quot;Subscriber&quot;</td><td>94107</td><td>2013-08-29</td><td>74</td><td>68</td><td>61</td><td>61</td><td>58</td><td>56</td><td>93</td><td>75</td><td>57</td><td>30.07</td><td>30.02</td><td>29.97</td><td>10</td><td>10</td><td>10</td><td>23</td><td>11</td><td>28</td><td>&quot;0&quot;</td><td>4</td><td>null</td><td>286</td><td>94107</td></tr></tbody></table></div>"
            ]
          },
          "metadata": {},
          "execution_count": 8
        }
      ]
    },
    {
      "cell_type": "code",
      "source": [
        "# Question 1 - PART B\n",
        "\n",
        "avg_bad_weather = (\n",
        "    trips_weather.filter(pl.col(\"events\").is_not_null())\n",
        "    .select(avg_duration = pl.col(\"duration\").mean()).item()\n",
        ")\n",
        "print(f\"the average trip duration during bad weather was {avg_bad_weather:.2f} minutes\")"
      ],
      "metadata": {
        "colab": {
          "base_uri": "https://localhost:8080/"
        },
        "id": "klrYPMOfuU9J",
        "outputId": "026accff-a6f6-43fb-9821-46648e8f99d8"
      },
      "execution_count": 18,
      "outputs": [
        {
          "output_type": "stream",
          "name": "stdout",
          "text": [
            "the average trip duration during bad weather was 10.35 minutes\n"
          ]
        }
      ]
    },
    {
      "cell_type": "code",
      "source": [
        "# Load Batting and People DataFrame\n",
        "\n",
        "batting = pl.read_csv(\"https://raw.githubusercontent.com/philhetzel/opan5510-class9/refs/heads/main/data/Batting.csv\", null_values='NA')\n",
        "people = pl.read_csv(\"https://raw.githubusercontent.com/philhetzel/opan5510-class9/refs/heads/main/data/People.csv\", null_values='NA')\n",
        "hallOfFame = pl.read_csv(\"https://raw.githubusercontent.com/philhetzel/opan5510-class9/refs/heads/main/data/HallOfFame.csv\", null_values='NA')"
      ],
      "metadata": {
        "id": "nOAb3TJqzvtE"
      },
      "execution_count": 31,
      "outputs": []
    },
    {
      "cell_type": "code",
      "source": [
        "batting.head()"
      ],
      "metadata": {
        "colab": {
          "base_uri": "https://localhost:8080/",
          "height": 252
        },
        "id": "V8VOZIgS26Vc",
        "outputId": "0c180c69-0036-46e5-da74-cf7030a2d198"
      },
      "execution_count": 26,
      "outputs": [
        {
          "output_type": "execute_result",
          "data": {
            "text/plain": [
              "shape: (5, 22)\n",
              "┌───────────┬────────┬───────┬────────┬───┬──────┬──────┬──────┬──────┐\n",
              "│ playerID  ┆ yearID ┆ stint ┆ teamID ┆ … ┆ HBP  ┆ SH   ┆ SF   ┆ GIDP │\n",
              "│ ---       ┆ ---    ┆ ---   ┆ ---    ┆   ┆ ---  ┆ ---  ┆ ---  ┆ ---  │\n",
              "│ str       ┆ i64    ┆ i64   ┆ str    ┆   ┆ str  ┆ str  ┆ str  ┆ i64  │\n",
              "╞═══════════╪════════╪═══════╪════════╪═══╪══════╪══════╪══════╪══════╡\n",
              "│ abercda01 ┆ 1871   ┆ 1     ┆ TRO    ┆ … ┆ null ┆ null ┆ null ┆ 0    │\n",
              "│ addybo01  ┆ 1871   ┆ 1     ┆ RC1    ┆ … ┆ null ┆ null ┆ null ┆ 0    │\n",
              "│ allisar01 ┆ 1871   ┆ 1     ┆ CL1    ┆ … ┆ null ┆ null ┆ null ┆ 1    │\n",
              "│ allisdo01 ┆ 1871   ┆ 1     ┆ WS3    ┆ … ┆ null ┆ null ┆ null ┆ 0    │\n",
              "│ ansonca01 ┆ 1871   ┆ 1     ┆ RC1    ┆ … ┆ null ┆ null ┆ null ┆ 0    │\n",
              "└───────────┴────────┴───────┴────────┴───┴──────┴──────┴──────┴──────┘"
            ],
            "text/html": [
              "<div><style>\n",
              ".dataframe > thead > tr,\n",
              ".dataframe > tbody > tr {\n",
              "  text-align: right;\n",
              "  white-space: pre-wrap;\n",
              "}\n",
              "</style>\n",
              "<small>shape: (5, 22)</small><table border=\"1\" class=\"dataframe\"><thead><tr><th>playerID</th><th>yearID</th><th>stint</th><th>teamID</th><th>lgID</th><th>G</th><th>AB</th><th>R</th><th>H</th><th>X2B</th><th>X3B</th><th>HR</th><th>RBI</th><th>SB</th><th>CS</th><th>BB</th><th>SO</th><th>IBB</th><th>HBP</th><th>SH</th><th>SF</th><th>GIDP</th></tr><tr><td>str</td><td>i64</td><td>i64</td><td>str</td><td>str</td><td>i64</td><td>i64</td><td>i64</td><td>i64</td><td>i64</td><td>i64</td><td>i64</td><td>i64</td><td>i64</td><td>i64</td><td>i64</td><td>i64</td><td>str</td><td>str</td><td>str</td><td>str</td><td>i64</td></tr></thead><tbody><tr><td>&quot;abercda01&quot;</td><td>1871</td><td>1</td><td>&quot;TRO&quot;</td><td>null</td><td>1</td><td>4</td><td>0</td><td>0</td><td>0</td><td>0</td><td>0</td><td>0</td><td>0</td><td>0</td><td>0</td><td>0</td><td>null</td><td>null</td><td>null</td><td>null</td><td>0</td></tr><tr><td>&quot;addybo01&quot;</td><td>1871</td><td>1</td><td>&quot;RC1&quot;</td><td>null</td><td>25</td><td>118</td><td>30</td><td>32</td><td>6</td><td>0</td><td>0</td><td>13</td><td>8</td><td>1</td><td>4</td><td>0</td><td>null</td><td>null</td><td>null</td><td>null</td><td>0</td></tr><tr><td>&quot;allisar01&quot;</td><td>1871</td><td>1</td><td>&quot;CL1&quot;</td><td>null</td><td>29</td><td>137</td><td>28</td><td>40</td><td>4</td><td>5</td><td>0</td><td>19</td><td>3</td><td>1</td><td>2</td><td>5</td><td>null</td><td>null</td><td>null</td><td>null</td><td>1</td></tr><tr><td>&quot;allisdo01&quot;</td><td>1871</td><td>1</td><td>&quot;WS3&quot;</td><td>null</td><td>27</td><td>133</td><td>28</td><td>44</td><td>10</td><td>2</td><td>2</td><td>27</td><td>1</td><td>1</td><td>0</td><td>2</td><td>null</td><td>null</td><td>null</td><td>null</td><td>0</td></tr><tr><td>&quot;ansonca01&quot;</td><td>1871</td><td>1</td><td>&quot;RC1&quot;</td><td>null</td><td>25</td><td>120</td><td>29</td><td>39</td><td>11</td><td>3</td><td>0</td><td>16</td><td>6</td><td>2</td><td>2</td><td>1</td><td>null</td><td>null</td><td>null</td><td>null</td><td>0</td></tr></tbody></table></div>"
            ]
          },
          "metadata": {},
          "execution_count": 26
        }
      ]
    },
    {
      "cell_type": "code",
      "source": [
        "people.head()"
      ],
      "metadata": {
        "colab": {
          "base_uri": "https://localhost:8080/",
          "height": 357
        },
        "id": "RJirxSzR2_mH",
        "outputId": "41376c09-80f1-4bb4-c980-9a2f283af573"
      },
      "execution_count": 28,
      "outputs": [
        {
          "output_type": "execute_result",
          "data": {
            "text/plain": [
              "shape: (5, 26)\n",
              "┌───────────┬───────────┬────────────┬──────────┬───┬──────────┬───────────┬───────────┬───────────┐\n",
              "│ playerID  ┆ birthYear ┆ birthMonth ┆ birthDay ┆ … ┆ retroID  ┆ bbrefID   ┆ deathDate ┆ birthDate │\n",
              "│ ---       ┆ ---       ┆ ---        ┆ ---      ┆   ┆ ---      ┆ ---       ┆ ---       ┆ ---       │\n",
              "│ str       ┆ i64       ┆ i64        ┆ i64      ┆   ┆ str      ┆ str       ┆ str       ┆ str       │\n",
              "╞═══════════╪═══════════╪════════════╪══════════╪═══╪══════════╪═══════════╪═══════════╪═══════════╡\n",
              "│ aardsda01 ┆ 1981      ┆ 12         ┆ 27       ┆ … ┆ aardd001 ┆ aardsda01 ┆ null      ┆ 1981-12-2 │\n",
              "│           ┆           ┆            ┆          ┆   ┆          ┆           ┆           ┆ 7         │\n",
              "│ aaronha01 ┆ 1934      ┆ 2          ┆ 5        ┆ … ┆ aaroh101 ┆ aaronha01 ┆ 2021-01-2 ┆ 1934-02-0 │\n",
              "│           ┆           ┆            ┆          ┆   ┆          ┆           ┆ 2         ┆ 5         │\n",
              "│ aaronto01 ┆ 1939      ┆ 8          ┆ 5        ┆ … ┆ aarot101 ┆ aaronto01 ┆ 1984-08-1 ┆ 1939-08-0 │\n",
              "│           ┆           ┆            ┆          ┆   ┆          ┆           ┆ 6         ┆ 5         │\n",
              "│ aasedo01  ┆ 1954      ┆ 9          ┆ 8        ┆ … ┆ aased001 ┆ aasedo01  ┆ null      ┆ 1954-09-0 │\n",
              "│           ┆           ┆            ┆          ┆   ┆          ┆           ┆           ┆ 8         │\n",
              "│ abadan01  ┆ 1972      ┆ 8          ┆ 25       ┆ … ┆ abada001 ┆ abadan01  ┆ null      ┆ 1972-08-2 │\n",
              "│           ┆           ┆            ┆          ┆   ┆          ┆           ┆           ┆ 5         │\n",
              "└───────────┴───────────┴────────────┴──────────┴───┴──────────┴───────────┴───────────┴───────────┘"
            ],
            "text/html": [
              "<div><style>\n",
              ".dataframe > thead > tr,\n",
              ".dataframe > tbody > tr {\n",
              "  text-align: right;\n",
              "  white-space: pre-wrap;\n",
              "}\n",
              "</style>\n",
              "<small>shape: (5, 26)</small><table border=\"1\" class=\"dataframe\"><thead><tr><th>playerID</th><th>birthYear</th><th>birthMonth</th><th>birthDay</th><th>birthCountry</th><th>birthState</th><th>birthCity</th><th>deathYear</th><th>deathMonth</th><th>deathDay</th><th>deathCountry</th><th>deathState</th><th>deathCity</th><th>nameFirst</th><th>nameLast</th><th>nameGiven</th><th>weight</th><th>height</th><th>bats</th><th>throws</th><th>debut</th><th>finalGame</th><th>retroID</th><th>bbrefID</th><th>deathDate</th><th>birthDate</th></tr><tr><td>str</td><td>i64</td><td>i64</td><td>i64</td><td>str</td><td>str</td><td>str</td><td>i64</td><td>i64</td><td>i64</td><td>str</td><td>str</td><td>str</td><td>str</td><td>str</td><td>str</td><td>i64</td><td>i64</td><td>str</td><td>str</td><td>str</td><td>str</td><td>str</td><td>str</td><td>str</td><td>str</td></tr></thead><tbody><tr><td>&quot;aardsda01&quot;</td><td>1981</td><td>12</td><td>27</td><td>&quot;USA&quot;</td><td>&quot;CO&quot;</td><td>&quot;Denver&quot;</td><td>null</td><td>null</td><td>null</td><td>null</td><td>null</td><td>null</td><td>&quot;David&quot;</td><td>&quot;Aardsma&quot;</td><td>&quot;David Allan&quot;</td><td>215</td><td>75</td><td>&quot;R&quot;</td><td>&quot;R&quot;</td><td>&quot;2004-04-06&quot;</td><td>&quot;2015-08-23&quot;</td><td>&quot;aardd001&quot;</td><td>&quot;aardsda01&quot;</td><td>null</td><td>&quot;1981-12-27&quot;</td></tr><tr><td>&quot;aaronha01&quot;</td><td>1934</td><td>2</td><td>5</td><td>&quot;USA&quot;</td><td>&quot;AL&quot;</td><td>&quot;Mobile&quot;</td><td>2021</td><td>1</td><td>22</td><td>&quot;USA&quot;</td><td>&quot;GA&quot;</td><td>&quot;Atlanta&quot;</td><td>&quot;Hank&quot;</td><td>&quot;Aaron&quot;</td><td>&quot;Henry Louis&quot;</td><td>180</td><td>72</td><td>&quot;R&quot;</td><td>&quot;R&quot;</td><td>&quot;1954-04-13&quot;</td><td>&quot;1976-10-03&quot;</td><td>&quot;aaroh101&quot;</td><td>&quot;aaronha01&quot;</td><td>&quot;2021-01-22&quot;</td><td>&quot;1934-02-05&quot;</td></tr><tr><td>&quot;aaronto01&quot;</td><td>1939</td><td>8</td><td>5</td><td>&quot;USA&quot;</td><td>&quot;AL&quot;</td><td>&quot;Mobile&quot;</td><td>1984</td><td>8</td><td>16</td><td>&quot;USA&quot;</td><td>&quot;GA&quot;</td><td>&quot;Atlanta&quot;</td><td>&quot;Tommie&quot;</td><td>&quot;Aaron&quot;</td><td>&quot;Tommie Lee&quot;</td><td>190</td><td>75</td><td>&quot;R&quot;</td><td>&quot;R&quot;</td><td>&quot;1962-04-10&quot;</td><td>&quot;1971-09-26&quot;</td><td>&quot;aarot101&quot;</td><td>&quot;aaronto01&quot;</td><td>&quot;1984-08-16&quot;</td><td>&quot;1939-08-05&quot;</td></tr><tr><td>&quot;aasedo01&quot;</td><td>1954</td><td>9</td><td>8</td><td>&quot;USA&quot;</td><td>&quot;CA&quot;</td><td>&quot;Orange&quot;</td><td>null</td><td>null</td><td>null</td><td>null</td><td>null</td><td>null</td><td>&quot;Don&quot;</td><td>&quot;Aase&quot;</td><td>&quot;Donald William&quot;</td><td>190</td><td>75</td><td>&quot;R&quot;</td><td>&quot;R&quot;</td><td>&quot;1977-07-26&quot;</td><td>&quot;1990-10-03&quot;</td><td>&quot;aased001&quot;</td><td>&quot;aasedo01&quot;</td><td>null</td><td>&quot;1954-09-08&quot;</td></tr><tr><td>&quot;abadan01&quot;</td><td>1972</td><td>8</td><td>25</td><td>&quot;USA&quot;</td><td>&quot;FL&quot;</td><td>&quot;Palm Beach&quot;</td><td>null</td><td>null</td><td>null</td><td>null</td><td>null</td><td>null</td><td>&quot;Andy&quot;</td><td>&quot;Abad&quot;</td><td>&quot;Fausto Andres&quot;</td><td>184</td><td>73</td><td>&quot;L&quot;</td><td>&quot;L&quot;</td><td>&quot;2001-09-10&quot;</td><td>&quot;2006-04-13&quot;</td><td>&quot;abada001&quot;</td><td>&quot;abadan01&quot;</td><td>null</td><td>&quot;1972-08-25&quot;</td></tr></tbody></table></div>"
            ]
          },
          "metadata": {},
          "execution_count": 28
        }
      ]
    },
    {
      "cell_type": "code",
      "source": [
        "hallOfFame.head()"
      ],
      "metadata": {
        "colab": {
          "base_uri": "https://localhost:8080/",
          "height": 252
        },
        "id": "kJLlNUWQ3Exz",
        "outputId": "6e5abc44-c987-47c9-c875-cbb75d9581de"
      },
      "execution_count": 29,
      "outputs": [
        {
          "output_type": "execute_result",
          "data": {
            "text/plain": [
              "shape: (5, 9)\n",
              "┌───────────┬────────┬─────────┬─────────┬───┬───────┬──────────┬──────────┬─────────────┐\n",
              "│ playerID  ┆ yearID ┆ votedBy ┆ ballots ┆ … ┆ votes ┆ inducted ┆ category ┆ needed_note │\n",
              "│ ---       ┆ ---    ┆ ---     ┆ ---     ┆   ┆ ---   ┆ ---      ┆ ---      ┆ ---         │\n",
              "│ str       ┆ i64    ┆ str     ┆ i64     ┆   ┆ i64   ┆ str      ┆ str      ┆ str         │\n",
              "╞═══════════╪════════╪═════════╪═════════╪═══╪═══════╪══════════╪══════════╪═════════════╡\n",
              "│ cobbty01  ┆ 1936   ┆ BBWAA   ┆ 226     ┆ … ┆ 222   ┆ Y        ┆ Player   ┆ null        │\n",
              "│ ruthba01  ┆ 1936   ┆ BBWAA   ┆ 226     ┆ … ┆ 215   ┆ Y        ┆ Player   ┆ null        │\n",
              "│ wagneho01 ┆ 1936   ┆ BBWAA   ┆ 226     ┆ … ┆ 215   ┆ Y        ┆ Player   ┆ null        │\n",
              "│ mathech01 ┆ 1936   ┆ BBWAA   ┆ 226     ┆ … ┆ 205   ┆ Y        ┆ Player   ┆ null        │\n",
              "│ johnswa01 ┆ 1936   ┆ BBWAA   ┆ 226     ┆ … ┆ 189   ┆ Y        ┆ Player   ┆ null        │\n",
              "└───────────┴────────┴─────────┴─────────┴───┴───────┴──────────┴──────────┴─────────────┘"
            ],
            "text/html": [
              "<div><style>\n",
              ".dataframe > thead > tr,\n",
              ".dataframe > tbody > tr {\n",
              "  text-align: right;\n",
              "  white-space: pre-wrap;\n",
              "}\n",
              "</style>\n",
              "<small>shape: (5, 9)</small><table border=\"1\" class=\"dataframe\"><thead><tr><th>playerID</th><th>yearID</th><th>votedBy</th><th>ballots</th><th>needed</th><th>votes</th><th>inducted</th><th>category</th><th>needed_note</th></tr><tr><td>str</td><td>i64</td><td>str</td><td>i64</td><td>i64</td><td>i64</td><td>str</td><td>str</td><td>str</td></tr></thead><tbody><tr><td>&quot;cobbty01&quot;</td><td>1936</td><td>&quot;BBWAA&quot;</td><td>226</td><td>170</td><td>222</td><td>&quot;Y&quot;</td><td>&quot;Player&quot;</td><td>null</td></tr><tr><td>&quot;ruthba01&quot;</td><td>1936</td><td>&quot;BBWAA&quot;</td><td>226</td><td>170</td><td>215</td><td>&quot;Y&quot;</td><td>&quot;Player&quot;</td><td>null</td></tr><tr><td>&quot;wagneho01&quot;</td><td>1936</td><td>&quot;BBWAA&quot;</td><td>226</td><td>170</td><td>215</td><td>&quot;Y&quot;</td><td>&quot;Player&quot;</td><td>null</td></tr><tr><td>&quot;mathech01&quot;</td><td>1936</td><td>&quot;BBWAA&quot;</td><td>226</td><td>170</td><td>205</td><td>&quot;Y&quot;</td><td>&quot;Player&quot;</td><td>null</td></tr><tr><td>&quot;johnswa01&quot;</td><td>1936</td><td>&quot;BBWAA&quot;</td><td>226</td><td>170</td><td>189</td><td>&quot;Y&quot;</td><td>&quot;Player&quot;</td><td>null</td></tr></tbody></table></div>"
            ]
          },
          "metadata": {},
          "execution_count": 29
        }
      ]
    },
    {
      "cell_type": "code",
      "source": [
        "# Question 2 - PART A\n",
        "\n",
        "stats_w_bio = batting.join(people, on='playerID', how='left')\n",
        "stats_w_bio.head()"
      ],
      "metadata": {
        "colab": {
          "base_uri": "https://localhost:8080/",
          "height": 357
        },
        "id": "bacVS5Ce3RAC",
        "outputId": "01e21c45-fb8c-4c11-b879-8028b8cb81fe"
      },
      "execution_count": 32,
      "outputs": [
        {
          "output_type": "execute_result",
          "data": {
            "text/plain": [
              "shape: (5, 47)\n",
              "┌───────────┬────────┬───────┬────────┬───┬──────────┬───────────┬────────────┬────────────┐\n",
              "│ playerID  ┆ yearID ┆ stint ┆ teamID ┆ … ┆ retroID  ┆ bbrefID   ┆ deathDate  ┆ birthDate  │\n",
              "│ ---       ┆ ---    ┆ ---   ┆ ---    ┆   ┆ ---      ┆ ---       ┆ ---        ┆ ---        │\n",
              "│ str       ┆ i64    ┆ i64   ┆ str    ┆   ┆ str      ┆ str       ┆ str        ┆ str        │\n",
              "╞═══════════╪════════╪═══════╪════════╪═══╪══════════╪═══════════╪════════════╪════════════╡\n",
              "│ abercda01 ┆ 1871   ┆ 1     ┆ TRO    ┆ … ┆ aberd101 ┆ abercda01 ┆ 1939-11-11 ┆ 1850-01-02 │\n",
              "│ addybo01  ┆ 1871   ┆ 1     ┆ RC1    ┆ … ┆ addyb101 ┆ addybo01  ┆ 1910-04-09 ┆ null       │\n",
              "│ allisar01 ┆ 1871   ┆ 1     ┆ CL1    ┆ … ┆ allia101 ┆ allisar01 ┆ 1916-02-25 ┆ 1849-01-29 │\n",
              "│ allisdo01 ┆ 1871   ┆ 1     ┆ WS3    ┆ … ┆ allid101 ┆ allisdo01 ┆ 1916-12-19 ┆ 1846-07-12 │\n",
              "│ ansonca01 ┆ 1871   ┆ 1     ┆ RC1    ┆ … ┆ ansoc101 ┆ ansonca01 ┆ 1922-04-14 ┆ 1852-04-17 │\n",
              "└───────────┴────────┴───────┴────────┴───┴──────────┴───────────┴────────────┴────────────┘"
            ],
            "text/html": [
              "<div><style>\n",
              ".dataframe > thead > tr,\n",
              ".dataframe > tbody > tr {\n",
              "  text-align: right;\n",
              "  white-space: pre-wrap;\n",
              "}\n",
              "</style>\n",
              "<small>shape: (5, 47)</small><table border=\"1\" class=\"dataframe\"><thead><tr><th>playerID</th><th>yearID</th><th>stint</th><th>teamID</th><th>lgID</th><th>G</th><th>AB</th><th>R</th><th>H</th><th>X2B</th><th>X3B</th><th>HR</th><th>RBI</th><th>SB</th><th>CS</th><th>BB</th><th>SO</th><th>IBB</th><th>HBP</th><th>SH</th><th>SF</th><th>GIDP</th><th>birthYear</th><th>birthMonth</th><th>birthDay</th><th>birthCountry</th><th>birthState</th><th>birthCity</th><th>deathYear</th><th>deathMonth</th><th>deathDay</th><th>deathCountry</th><th>deathState</th><th>deathCity</th><th>nameFirst</th><th>nameLast</th><th>nameGiven</th><th>weight</th><th>height</th><th>bats</th><th>throws</th><th>debut</th><th>finalGame</th><th>retroID</th><th>bbrefID</th><th>deathDate</th><th>birthDate</th></tr><tr><td>str</td><td>i64</td><td>i64</td><td>str</td><td>str</td><td>i64</td><td>i64</td><td>i64</td><td>i64</td><td>i64</td><td>i64</td><td>i64</td><td>i64</td><td>i64</td><td>i64</td><td>i64</td><td>i64</td><td>str</td><td>str</td><td>str</td><td>str</td><td>i64</td><td>i64</td><td>i64</td><td>i64</td><td>str</td><td>str</td><td>str</td><td>i64</td><td>i64</td><td>i64</td><td>str</td><td>str</td><td>str</td><td>str</td><td>str</td><td>str</td><td>i64</td><td>i64</td><td>str</td><td>str</td><td>str</td><td>str</td><td>str</td><td>str</td><td>str</td><td>str</td></tr></thead><tbody><tr><td>&quot;abercda01&quot;</td><td>1871</td><td>1</td><td>&quot;TRO&quot;</td><td>null</td><td>1</td><td>4</td><td>0</td><td>0</td><td>0</td><td>0</td><td>0</td><td>0</td><td>0</td><td>0</td><td>0</td><td>0</td><td>null</td><td>null</td><td>null</td><td>null</td><td>0</td><td>1850</td><td>1</td><td>2</td><td>&quot;USA&quot;</td><td>&quot;OK&quot;</td><td>&quot;Fort Towson&quot;</td><td>1939</td><td>11</td><td>11</td><td>&quot;USA&quot;</td><td>&quot;PA&quot;</td><td>&quot;Philadelphia&quot;</td><td>&quot;Frank&quot;</td><td>&quot;Abercrombie&quot;</td><td>&quot;Francis Patterson&quot;</td><td>null</td><td>null</td><td>null</td><td>null</td><td>&quot;1871-10-21&quot;</td><td>&quot;1871-10-21&quot;</td><td>&quot;aberd101&quot;</td><td>&quot;abercda01&quot;</td><td>&quot;1939-11-11&quot;</td><td>&quot;1850-01-02&quot;</td></tr><tr><td>&quot;addybo01&quot;</td><td>1871</td><td>1</td><td>&quot;RC1&quot;</td><td>null</td><td>25</td><td>118</td><td>30</td><td>32</td><td>6</td><td>0</td><td>0</td><td>13</td><td>8</td><td>1</td><td>4</td><td>0</td><td>null</td><td>null</td><td>null</td><td>null</td><td>0</td><td>1842</td><td>2</td><td>null</td><td>&quot;CAN&quot;</td><td>&quot;ON&quot;</td><td>&quot;Port Hope&quot;</td><td>1910</td><td>4</td><td>9</td><td>&quot;USA&quot;</td><td>&quot;ID&quot;</td><td>&quot;Pocatello&quot;</td><td>&quot;Bob&quot;</td><td>&quot;Addy&quot;</td><td>&quot;Robert Edward&quot;</td><td>160</td><td>68</td><td>&quot;L&quot;</td><td>&quot;L&quot;</td><td>&quot;1871-05-06&quot;</td><td>&quot;1877-10-06&quot;</td><td>&quot;addyb101&quot;</td><td>&quot;addybo01&quot;</td><td>&quot;1910-04-09&quot;</td><td>null</td></tr><tr><td>&quot;allisar01&quot;</td><td>1871</td><td>1</td><td>&quot;CL1&quot;</td><td>null</td><td>29</td><td>137</td><td>28</td><td>40</td><td>4</td><td>5</td><td>0</td><td>19</td><td>3</td><td>1</td><td>2</td><td>5</td><td>null</td><td>null</td><td>null</td><td>null</td><td>1</td><td>1849</td><td>1</td><td>29</td><td>&quot;USA&quot;</td><td>&quot;PA&quot;</td><td>&quot;Philadelphia&quot;</td><td>1916</td><td>2</td><td>25</td><td>&quot;USA&quot;</td><td>&quot;DC&quot;</td><td>&quot;Washington&quot;</td><td>&quot;Art&quot;</td><td>&quot;Allison&quot;</td><td>&quot;Arthur Algernon&quot;</td><td>150</td><td>68</td><td>null</td><td>null</td><td>&quot;1871-05-04&quot;</td><td>&quot;1876-10-05&quot;</td><td>&quot;allia101&quot;</td><td>&quot;allisar01&quot;</td><td>&quot;1916-02-25&quot;</td><td>&quot;1849-01-29&quot;</td></tr><tr><td>&quot;allisdo01&quot;</td><td>1871</td><td>1</td><td>&quot;WS3&quot;</td><td>null</td><td>27</td><td>133</td><td>28</td><td>44</td><td>10</td><td>2</td><td>2</td><td>27</td><td>1</td><td>1</td><td>0</td><td>2</td><td>null</td><td>null</td><td>null</td><td>null</td><td>0</td><td>1846</td><td>7</td><td>12</td><td>&quot;USA&quot;</td><td>&quot;PA&quot;</td><td>&quot;Philadelphia&quot;</td><td>1916</td><td>12</td><td>19</td><td>&quot;USA&quot;</td><td>&quot;DC&quot;</td><td>&quot;Washington&quot;</td><td>&quot;Doug&quot;</td><td>&quot;Allison&quot;</td><td>&quot;Douglas L.&quot;</td><td>160</td><td>70</td><td>&quot;R&quot;</td><td>&quot;R&quot;</td><td>&quot;1871-05-05&quot;</td><td>&quot;1883-07-13&quot;</td><td>&quot;allid101&quot;</td><td>&quot;allisdo01&quot;</td><td>&quot;1916-12-19&quot;</td><td>&quot;1846-07-12&quot;</td></tr><tr><td>&quot;ansonca01&quot;</td><td>1871</td><td>1</td><td>&quot;RC1&quot;</td><td>null</td><td>25</td><td>120</td><td>29</td><td>39</td><td>11</td><td>3</td><td>0</td><td>16</td><td>6</td><td>2</td><td>2</td><td>1</td><td>null</td><td>null</td><td>null</td><td>null</td><td>0</td><td>1852</td><td>4</td><td>17</td><td>&quot;USA&quot;</td><td>&quot;IA&quot;</td><td>&quot;Marshalltown&quot;</td><td>1922</td><td>4</td><td>14</td><td>&quot;USA&quot;</td><td>&quot;IL&quot;</td><td>&quot;Chicago&quot;</td><td>&quot;Cap&quot;</td><td>&quot;Anson&quot;</td><td>&quot;Adrian Constantine&quot;</td><td>227</td><td>72</td><td>&quot;R&quot;</td><td>&quot;R&quot;</td><td>&quot;1871-05-06&quot;</td><td>&quot;1897-10-03&quot;</td><td>&quot;ansoc101&quot;</td><td>&quot;ansonca01&quot;</td><td>&quot;1922-04-14&quot;</td><td>&quot;1852-04-17&quot;</td></tr></tbody></table></div>"
            ]
          },
          "metadata": {},
          "execution_count": 32
        }
      ]
    },
    {
      "cell_type": "code",
      "source": [
        "# Question 2 - PART B\n",
        "\n",
        "florida_hr = (\n",
        "    stats_w_bio.filter(pl.col(\"birthState\")==\"FL\")\n",
        "    .select(total_hr = pl.col(\"HR\").sum()).item()\n",
        ")\n",
        "\n",
        "print(florida_hr)"
      ],
      "metadata": {
        "colab": {
          "base_uri": "https://localhost:8080/"
        },
        "id": "giddD48e4IM7",
        "outputId": "1c8840a6-53ec-44a8-a1a4-a942a457ff94"
      },
      "execution_count": 51,
      "outputs": [
        {
          "output_type": "stream",
          "name": "stdout",
          "text": [
            "16225\n"
          ]
        }
      ]
    },
    {
      "cell_type": "code",
      "source": [
        "# Question 3 - PART A\n",
        "\n",
        "hall_inducted = (\n",
        "    HallOfFame.filter((pl.col(\"inducted\")==\"Y\") &  (pl.col(\"category\")==\"Player\")).select(\"playerID\").unique()\n",
        ")\n",
        "hall_inducted.head()"
      ],
      "metadata": {
        "colab": {
          "base_uri": "https://localhost:8080/",
          "height": 252
        },
        "id": "qHzyskVH7KWk",
        "outputId": "6003a7e0-edf9-494b-8962-985bb5b9cc31"
      },
      "execution_count": 72,
      "outputs": [
        {
          "output_type": "execute_result",
          "data": {
            "text/plain": [
              "shape: (5, 1)\n",
              "┌───────────┐\n",
              "│ playerID  │\n",
              "│ ---       │\n",
              "│ str       │\n",
              "╞═══════════╡\n",
              "│ kleinch01 │\n",
              "│ simmote01 │\n",
              "│ mendejo99 │\n",
              "│ griffke02 │\n",
              "│ ansonca01 │\n",
              "└───────────┘"
            ],
            "text/html": [
              "<div><style>\n",
              ".dataframe > thead > tr,\n",
              ".dataframe > tbody > tr {\n",
              "  text-align: right;\n",
              "  white-space: pre-wrap;\n",
              "}\n",
              "</style>\n",
              "<small>shape: (5, 1)</small><table border=\"1\" class=\"dataframe\"><thead><tr><th>playerID</th></tr><tr><td>str</td></tr></thead><tbody><tr><td>&quot;kleinch01&quot;</td></tr><tr><td>&quot;simmote01&quot;</td></tr><tr><td>&quot;mendejo99&quot;</td></tr><tr><td>&quot;griffke02&quot;</td></tr><tr><td>&quot;ansonca01&quot;</td></tr></tbody></table></div>"
            ]
          },
          "metadata": {},
          "execution_count": 72
        }
      ]
    },
    {
      "cell_type": "code",
      "source": [
        "# Question 3 - PART B\n",
        "\n",
        "hof_stats = batting.join(hall_inducted, on='playerID', how='inner')\n",
        "hof_stats.head()\n",
        "\n",
        "hof_hits = (\n",
        "    hof_stats\n",
        "    .group_by(\"playerID\")\n",
        "    .agg(pl.sum(\"H\").alias(\"total_hits\"))\n",
        "    .select(pl.mean(\"total_hits\").alias(\"average_hits\"))\n",
        ")\n",
        "\n",
        "hof_hits.head()"
      ],
      "metadata": {
        "colab": {
          "base_uri": "https://localhost:8080/",
          "height": 128
        },
        "id": "EV6sIZ0T7mAu",
        "outputId": "01e2f4db-1d58-4ff0-f59c-18f008aa64c8"
      },
      "execution_count": 77,
      "outputs": [
        {
          "output_type": "execute_result",
          "data": {
            "text/plain": [
              "shape: (1, 1)\n",
              "┌──────────────┐\n",
              "│ average_hits │\n",
              "│ ---          │\n",
              "│ f64          │\n",
              "╞══════════════╡\n",
              "│ 1717.29918   │\n",
              "└──────────────┘"
            ],
            "text/html": [
              "<div><style>\n",
              ".dataframe > thead > tr,\n",
              ".dataframe > tbody > tr {\n",
              "  text-align: right;\n",
              "  white-space: pre-wrap;\n",
              "}\n",
              "</style>\n",
              "<small>shape: (1, 1)</small><table border=\"1\" class=\"dataframe\"><thead><tr><th>average_hits</th></tr><tr><td>f64</td></tr></thead><tbody><tr><td>1717.29918</td></tr></tbody></table></div>"
            ]
          },
          "metadata": {},
          "execution_count": 77
        }
      ]
    }
  ]
}